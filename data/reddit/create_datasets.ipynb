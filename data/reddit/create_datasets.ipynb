{
 "cells": [
  {
   "cell_type": "code",
   "execution_count": 3,
   "metadata": {},
   "outputs": [],
   "source": [
    "import os\n",
    "from tqdm.notebook import tqdm\n",
    "import json\n",
    "from zst_parser import read_lines_zst\n",
    "import duckdb"
   ]
  },
  {
   "cell_type": "code",
   "execution_count": 4,
   "metadata": {},
   "outputs": [],
   "source": [
    "data_dir = \"/data/reddit/torrents/data/reddit/comments/extracted/\""
   ]
  },
  {
   "attachments": {},
   "cell_type": "markdown",
   "metadata": {},
   "source": [
    "***"
   ]
  },
  {
   "cell_type": "code",
   "execution_count": 6,
   "metadata": {},
   "outputs": [],
   "source": [
    "fname = \"RC_2018-01\"\n",
    "author_col = \"author\"\n",
    "non_auth_columns = [\"id\", \"body\", \"subreddit\", \"created_utc\"]\n",
    "min_count = 4\n",
    "max_count = 2000"
   ]
  },
  {
   "cell_type": "code",
   "execution_count": 7,
   "metadata": {},
   "outputs": [],
   "source": [
    "\n",
    "tablename = fname.replace(\"-\", \"_\")\n",
    "table = duckdb.read_json(os.path.join(data_dir, fname))\n",
    "conn = duckdb.register(tablename, table)\n"
   ]
  },
  {
   "cell_type": "code",
   "execution_count": 8,
   "metadata": {},
   "outputs": [
    {
     "data": {
      "application/vnd.jupyter.widget-view+json": {
       "model_id": "2c2d05f044594dbaa54b543f94a8e637",
       "version_major": 2,
       "version_minor": 0
      },
      "text/plain": [
       "FloatProgress(value=0.0, layout=Layout(width='auto'), style=ProgressStyle(bar_color='black'))"
      ]
     },
     "metadata": {},
     "output_type": "display_data"
    }
   ],
   "source": [
    "sel_cols = \",\".join([f\"list({col}) as {col}\" for col in non_auth_columns])\n",
    "all_rows = duckdb.sql(f\"COPY (SELECT {sel_cols}, {author_col} FROM {tablename} GROUP BY {author_col}\\\n",
    "                         HAVING len(list(id)) <= {max_count} \\\n",
    "                      ) TO '/data/ccc/data/reddit_{tablename}' (FORMAT JSON)\"\n",
    "                      ,connection=conn)"
   ]
  },
  {
   "attachments": {},
   "cell_type": "markdown",
   "metadata": {},
   "source": [
    "***"
   ]
  },
  {
   "cell_type": "code",
   "execution_count": null,
   "metadata": {},
   "outputs": [],
   "source": [
    "#duckdb.sql(\"COPY (SELECT id, author, body, subreddit, created_utc from read_ndjson('/data/reddit/torrents/data/reddit/comments/extracted/RC_2019-12', auto_detect=true)) TO '/data/reddit/torrents/data/reddit/comments/extracted/RC_2019-12.parquet' (FORMAT parquet)\")"
   ]
  },
  {
   "cell_type": "code",
   "execution_count": 10,
   "metadata": {},
   "outputs": [],
   "source": [
    "def jsonl_gen(fname = \"RC_2018-01\",\n",
    "              tablename= \"RC_2019_01\",\n",
    "              author_col = \"author\",\n",
    "              non_auth_columns = [\"id\", \"body\", \"subreddit\", \"created_utc\"],\n",
    "              max_memory=\"30GB\"):\n",
    "    #table = duckdb.read_json(os.path.join(data_dir, fname))\n",
    "    table = duckdb.read_parquet(os.path.join(data_dir, fname))\n",
    "    conn = duckdb.register(tablename, table)\n",
    "    conn.execute(f\"PRAGMA memory_limit='{max_memory}'\")\n",
    "    sel_cols = \",\".join([f\"list({col}) as {col}\" for col in non_auth_columns])\n",
    "    all_rows = duckdb.sql(f\"COPY (SELECT {sel_cols}, {author_col} FROM {tablename} GROUP BY {author_col} \\\n",
    "                            HAVING len(list(id)) <= 2000) \\\n",
    "                           TO '/data/ccc/data/reddit_{tablename}' (FORMAT JSON)\"\n",
    "                          , connection=conn)"
   ]
  },
  {
   "cell_type": "code",
   "execution_count": 11,
   "metadata": {},
   "outputs": [
    {
     "data": {
      "application/vnd.jupyter.widget-view+json": {
       "model_id": "30a766b36d774b408e9726d9d0ac8ae7",
       "version_major": 2,
       "version_minor": 0
      },
      "text/plain": [
       "FloatProgress(value=0.0, layout=Layout(width='auto'), style=ProgressStyle(bar_color='black'))"
      ]
     },
     "metadata": {},
     "output_type": "display_data"
    }
   ],
   "source": [
    "jsonl_gen(fname=\"RC_2019-12.parquet\", tablename=\"RC_2019_12\")"
   ]
  },
  {
   "cell_type": "code",
   "execution_count": null,
   "metadata": {},
   "outputs": [],
   "source": []
  }
 ],
 "metadata": {
  "kernelspec": {
   "display_name": "Python 3 (ipykernel)",
   "language": "python",
   "name": "python3"
  },
  "language_info": {
   "codemirror_mode": {
    "name": "ipython",
    "version": 3
   },
   "file_extension": ".py",
   "mimetype": "text/x-python",
   "name": "python",
   "nbconvert_exporter": "python",
   "pygments_lexer": "ipython3",
   "version": "3.8.10"
  }
 },
 "nbformat": 4,
 "nbformat_minor": 2
}
